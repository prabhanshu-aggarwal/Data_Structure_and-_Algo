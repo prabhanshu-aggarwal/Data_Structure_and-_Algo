{
 "cells": [
  {
   "cell_type": "markdown",
   "metadata": {},
   "source": [
    "# Selection Sort"
   ]
  },
  {
   "cell_type": "markdown",
   "metadata": {},
   "source": [
    "Implementation of Selection Sort\n",
    "The selection sort improves on the bubble sort by making only one exchange for every pass through the list. In order to do this, a selection sort looks for the smallest/largest value as it makes a pass and, after completing the pass, places it in the proper location. After the second pass, the next smallest/largest is in place. This process continues and requires n−1 passes to sort n items, since the final item must be in place after the (n−1) st pass."
   ]
  },
  {
   "cell_type": "markdown",
   "metadata": {},
   "source": [
    "PROPERTIES:\n",
    "    \n",
    "Not stable\n",
    "\n",
    "O(1) extra space\n",
    "\n",
    "Θ(n2) comparisons\n",
    "\n",
    "Θ(n) swaps\n"
   ]
  },
  {
   "cell_type": "markdown",
   "metadata": {},
   "source": [
    "The algorithm maintains two subarrays in a given array.\n",
    "\n",
    "1) The subarray which is already sorted.\n",
    "\n",
    "2) Remaining subarray which is unsorted."
   ]
  },
  {
   "cell_type": "code",
   "execution_count": 25,
   "metadata": {},
   "outputs": [],
   "source": [
    "Method 1:\n",
    "    \n",
    "    def selection_sort(arr):\n",
    "    n=len(arr)\n",
    "    for i in range(n-1):\n",
    "        min=arr[i]\n",
    "        k=0\n",
    "        swap=False\n",
    "        for j in range(i+1,n):\n",
    "            if arr[j]<min:\n",
    "                min=arr[j]\n",
    "                k=j\n",
    "                swap=True\n",
    "        if swap is True:\n",
    "            arr[i], arr[k]=arr[k], arr[i]\n",
    "            \n",
    "    print(arr)"
   ]
  },
  {
   "cell_type": "code",
   "execution_count": 27,
   "metadata": {},
   "outputs": [
    {
     "name": "stdout",
     "output_type": "stream",
     "text": [
      "[2, 3, 4, 4, 5, 6, 7, 8, 9, 13, 32]\n"
     ]
    }
   ],
   "source": [
    "selection_sort([7,6,5,4,32,2,3,8,13,9,4])"
   ]
  },
  {
   "cell_type": "code",
   "execution_count": 36,
   "metadata": {},
   "outputs": [],
   "source": [
    "Method 1:\n",
    "    \n",
    "    def selection_sort_(arr):\n",
    "    n=len(arr)\n",
    "    for i in range(n):\n",
    "        min=i\n",
    "        for j in range(i+1,n):\n",
    "            if arr[j]<arr[min]:\n",
    "                min=j\n",
    "        arr[i], arr[min]=arr[min], arr[i]\n",
    "            \n",
    "    print(arr)"
   ]
  },
  {
   "cell_type": "code",
   "execution_count": 37,
   "metadata": {},
   "outputs": [
    {
     "name": "stdout",
     "output_type": "stream",
     "text": [
      "[2, 3, 4, 4, 5, 6, 7, 8, 9, 13, 32]\n"
     ]
    }
   ],
   "source": [
    "selection_sort_([7,6,5,4,32,2,3,8,13,9,4])"
   ]
  },
  {
   "cell_type": "markdown",
   "metadata": {},
   "source": [
    "Time Complexity: O(n2) as there are two nested loops.\n",
    "\n",
    "Auxiliary Space: O(1)\n",
    "\n",
    "\n",
    "\n",
    "The good thing about selection sort is it never makes more than O(n) swaps and can be useful when memory write is a costly operation."
   ]
  }
 ],
 "metadata": {
  "kernelspec": {
   "display_name": "Python 3",
   "language": "python",
   "name": "python3"
  },
  "language_info": {
   "codemirror_mode": {
    "name": "ipython",
    "version": 3
   },
   "file_extension": ".py",
   "mimetype": "text/x-python",
   "name": "python",
   "nbconvert_exporter": "python",
   "pygments_lexer": "ipython3",
   "version": "3.8.3"
  }
 },
 "nbformat": 4,
 "nbformat_minor": 4
}
