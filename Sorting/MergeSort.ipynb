{
 "cells": [
  {
   "cell_type": "markdown",
   "metadata": {},
   "source": [
    "# Merge Sort Implementation"
   ]
  },
  {
   "cell_type": "markdown",
   "metadata": {},
   "source": [
    "Merge Sort is a Divide and Conquer algorithm. It divides input array in two halves, calls itself for the two halves and then merges the two sorted halves. The merge() function is used for merging two halves. The merge(arr, l, m, r) is key process that assumes that arr[l..m] and arr[m+1..r] are sorted and merges the two sorted sub-arrays into one. "
   ]
  },
  {
   "cell_type": "code",
   "execution_count": 73,
   "metadata": {},
   "outputs": [],
   "source": [
    "def mergesort(arr):\n",
    "    \n",
    "    if len(arr)>1:\n",
    "        mid=len(arr)//2\n",
    "        l=arr[:mid]\n",
    "        r=arr[mid:]\n",
    "        mergesort(l)\n",
    "        mergesort(r)\n",
    "     \n",
    "        i=j=k=0\n",
    "        # Copy data to temp arrays L[] and R[]\n",
    "        while i < len(l) and j<len(r):\n",
    "            if l[i]<r[j]:\n",
    "                arr[k]=l[i]\n",
    "                i+=1\n",
    "            else:\n",
    "                arr[k]=r[j]\n",
    "                j+=1\n",
    "            k+=1\n",
    "        # Copy data to temp arrays L[] and R[]\n",
    "        while i<len(l):\n",
    "            arr[k]=l[i]\n",
    "            i+=1\n",
    "            k+=1\n",
    "\n",
    "        while j<len(r):\n",
    "            arr[k]=r[j]\n",
    "            j+=1\n",
    "            k+=1\n",
    "    \n",
    "def prin(arr):\n",
    "    print(arr)"
   ]
  },
  {
   "cell_type": "code",
   "execution_count": 75,
   "metadata": {},
   "outputs": [
    {
     "name": "stdout",
     "output_type": "stream",
     "text": [
      "[10, 28, 30, 36, 45, 50, 80, 85]\n"
     ]
    }
   ],
   "source": [
    "arr=[30,50,10,80,28,85,36,45]\n",
    "mergesort(arr)\n",
    "prin(arr)"
   ]
  },
  {
   "cell_type": "markdown",
   "metadata": {},
   "source": [
    "Time complexity of Merge Sort is (nLogn) in all 3 cases (worst, average and best) as merge sort always divides the array into two halves and take linear time to merge two halves."
   ]
  }
 ],
 "metadata": {
  "kernelspec": {
   "display_name": "Python 3",
   "language": "python",
   "name": "python3"
  },
  "language_info": {
   "codemirror_mode": {
    "name": "ipython",
    "version": 3
   },
   "file_extension": ".py",
   "mimetype": "text/x-python",
   "name": "python",
   "nbconvert_exporter": "python",
   "pygments_lexer": "ipython3",
   "version": "3.8.3"
  }
 },
 "nbformat": 4,
 "nbformat_minor": 4
}
