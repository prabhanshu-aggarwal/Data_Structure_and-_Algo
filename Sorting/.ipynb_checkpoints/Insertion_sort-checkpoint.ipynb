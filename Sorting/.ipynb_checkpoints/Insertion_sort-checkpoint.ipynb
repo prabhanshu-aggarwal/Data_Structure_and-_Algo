{
 "cells": [
  {
   "cell_type": "markdown",
   "metadata": {},
   "source": [
    "# Implementation of Insertion Sort\n"
   ]
  },
  {
   "cell_type": "markdown",
   "metadata": {},
   "source": [
    "Insertion Sort builds the final sorted array (or list) one item at a time. It is much less efficient on large lists than more advanced algorithms such as quicksort, heapsort, or merge sort."
   ]
  },
  {
   "cell_type": "markdown",
   "metadata": {},
   "source": [
    "PROPERTIES:\n",
    "\n",
    "O(1) extra space\n",
    "\n",
    "O(n2) comparisons and swaps\n",
    "\n",
    "Adaptive: O(n) time when nearly sorted\n",
    "    "
   ]
  },
  {
   "cell_type": "code",
   "execution_count": 4,
   "metadata": {},
   "outputs": [],
   "source": [
    "def insertion_sort(arr):\n",
    "    \n",
    "    for i in range(1, len(arr)-1):\n",
    "        key=arr[i]\n",
    "        j=i-1\n",
    "        \n",
    "        while j>=0 and key<arr[j]:\n",
    "            arr[j+1]=arr[j]\n",
    "            j-=1\n",
    "        arr[j+1] = key\n",
    "        \n",
    "    print(arr)"
   ]
  },
  {
   "cell_type": "code",
   "execution_count": null,
   "metadata": {},
   "outputs": [],
   "source": []
  }
 ],
 "metadata": {
  "kernelspec": {
   "display_name": "Python 3",
   "language": "python",
   "name": "python3"
  },
  "language_info": {
   "codemirror_mode": {
    "name": "ipython",
    "version": 3
   },
   "file_extension": ".py",
   "mimetype": "text/x-python",
   "name": "python",
   "nbconvert_exporter": "python",
   "pygments_lexer": "ipython3",
   "version": "3.8.3"
  }
 },
 "nbformat": 4,
 "nbformat_minor": 4
}
