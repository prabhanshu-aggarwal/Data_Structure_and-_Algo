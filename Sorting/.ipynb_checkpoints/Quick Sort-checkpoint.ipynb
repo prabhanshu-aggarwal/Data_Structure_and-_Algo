{
 "cells": [
  {
   "cell_type": "markdown",
   "metadata": {},
   "source": [
    "# Implementation of Quick Sort"
   ]
  },
  {
   "cell_type": "markdown",
   "metadata": {},
   "source": [
    "QuickSort is a Divide and Conquer algorithm. It picks an element as pivot and partitions the given array around the picked pivot. "
   ]
  },
  {
   "cell_type": "code",
   "execution_count": 25,
   "metadata": {},
   "outputs": [],
   "source": [
    "def quick_sort(arr):\n",
    "    quick_sort_call(arr, 0, len(arr)-1)\n",
    "    \n",
    "def quick_sort_call(arr, low, high):\n",
    "    if low<high:\n",
    "        pivot=partition(arr, low, high)\n",
    "        partition(arr, 0, pivot-1)\n",
    "        partition(arr, pivot+1, high)\n",
    "    print(arr)\n",
    "        \n",
    "def partition(arr, low, high):\n",
    "    i=low-1\n",
    "    pivot=arr[high]\n",
    "    for j in range(low, high):\n",
    "        \n",
    "        if arr[j]<pivot:\n",
    "            i+=1\n",
    "            arr[i], arr[j]=arr[j], arr[i]\n",
    "            \n",
    "    arr[i+1],arr[high]=arr[high], arr[i+1]\n",
    "    \n",
    "    return i+1"
   ]
  },
  {
   "cell_type": "code",
   "execution_count": 26,
   "metadata": {},
   "outputs": [
    {
     "name": "stdout",
     "output_type": "stream",
     "text": [
      "[10, 18, 30, 40, 50, 65, 70, 80, 90]\n"
     ]
    }
   ],
   "source": [
    "quick_sort([10, 80,65, 18, 30, 90, 40, 50, 70])"
   ]
  }
 ],
 "metadata": {
  "kernelspec": {
   "display_name": "Python 3",
   "language": "python",
   "name": "python3"
  },
  "language_info": {
   "codemirror_mode": {
    "name": "ipython",
    "version": 3
   },
   "file_extension": ".py",
   "mimetype": "text/x-python",
   "name": "python",
   "nbconvert_exporter": "python",
   "pygments_lexer": "ipython3",
   "version": "3.8.3"
  }
 },
 "nbformat": 4,
 "nbformat_minor": 4
}
