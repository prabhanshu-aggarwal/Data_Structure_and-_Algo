{
 "cells": [
  {
   "cell_type": "code",
   "execution_count": 6,
   "metadata": {},
   "outputs": [
    {
     "data": {
      "text/plain": [
       "True"
      ]
     },
     "execution_count": 6,
     "metadata": {},
     "output_type": "execute_result"
    }
   ],
   "source": [
    "#Program to validate the BST\n",
    "#We will check whether a Binary tree is Binary Search Tree or Not\n",
    "\n",
    "#Method 2 (More Efficient Method): Compare each node with min and max value \n",
    "\n",
    "INT_MAX=4294967296\n",
    "INT_MIN=-4294967296\n",
    "\n",
    "class Node():\n",
    "    def __init__(self, data):\n",
    "        self.data=data\n",
    "        self.right=None\n",
    "        self.left=None\n",
    "        \n",
    "def BSTValidate(root):\n",
    "    return _BSTValidate(root, INT_MIN, INT_MAX)\n",
    "\n",
    "def _BSTValidate(curr_node, min, max):\n",
    "    if not curr_node:\n",
    "        return True\n",
    "    if curr_node.data<min or curr_node.data>max:\n",
    "        return False\n",
    "    \n",
    "    return (_BSTValidate(curr_node.left, min, curr_node.data)\n",
    "           and _BSTValidate(curr_node.right, curr_node.data, max))\n",
    "        \n",
    "n=Node(50)\n",
    "n.left=Node(30)\n",
    "n.right=Node(70)\n",
    "n.left.left=Node(10)\n",
    "n.left.right=Node(40)\n",
    "BSTValidate(n)"
   ]
  }
 ],
 "metadata": {
  "kernelspec": {
   "display_name": "Python 3",
   "language": "python",
   "name": "python3"
  },
  "language_info": {
   "codemirror_mode": {
    "name": "ipython",
    "version": 3
   },
   "file_extension": ".py",
   "mimetype": "text/x-python",
   "name": "python",
   "nbconvert_exporter": "python",
   "pygments_lexer": "ipython3",
   "version": "3.8.3"
  }
 },
 "nbformat": 4,
 "nbformat_minor": 4
}
