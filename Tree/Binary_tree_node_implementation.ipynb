{
 "cells": [
  {
   "cell_type": "code",
   "execution_count": null,
   "metadata": {},
   "outputs": [],
   "source": [
    "#Implementation of binary tree using nodes\n",
    "\n",
    "class BinaryTree(object):\n",
    "    \n",
    "    def __init__(self, rootobj):\n",
    "        self.key=rootobj\n",
    "        self.leftchild=None\n",
    "        self.rightchild=None\n",
    "        \n",
    "    def insertleft(self, newnode):\n",
    "        if self.leftchild==None:\n",
    "            self.leftchild=BinaryTree(newnode)\n",
    "            \n",
    "        else:\n",
    "            t=Binarytree(newnode)\n",
    "            t.leftchild=self.leftchild\n",
    "            self.leftchild=t\n",
    "            \n",
    "        \n",
    "    def insertright(self, newnode):\n",
    "        if self.rightchild==None:\n",
    "            self.rightchild=BinaryTree(newnode)\n",
    "            \n",
    "        else:\n",
    "            t=Binarytree(newnode)\n",
    "            t.rightchild=self.rightchild\n",
    "            self.rightchild=t\n",
    "            \n",
    "    def getleftchild(self):\n",
    "        return self.leftchild\n",
    "        \n",
    "    def getrightchild(self):\n",
    "        return self.rightchild\n",
    "        \n",
    "    def setrootval(self, rootobj):\n",
    "        self.key=obj\n",
    "        \n",
    "    def getrootval(self):\n",
    "        return self.key\n",
    "            \n",
    "\n",
    "\n",
    "r = BinaryTree('a')\n",
    "print(r.getrootval())\n",
    "print(r.getleftchild())\n",
    "r.insertleft('b')\n",
    "print(r.getleftchild())\n",
    "print(r.getleftchild().getrootval())"
   ]
  }
 ],
 "metadata": {
  "kernelspec": {
   "display_name": "Python 3",
   "language": "python",
   "name": "python3"
  },
  "language_info": {
   "codemirror_mode": {
    "name": "ipython",
    "version": 3
   },
   "file_extension": ".py",
   "mimetype": "text/x-python",
   "name": "python",
   "nbconvert_exporter": "python",
   "pygments_lexer": "ipython3",
   "version": "3.8.3"
  }
 },
 "nbformat": 4,
 "nbformat_minor": 4
}
