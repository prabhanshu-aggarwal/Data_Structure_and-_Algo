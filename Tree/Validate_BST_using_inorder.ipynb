{
 "cells": [
  {
   "cell_type": "code",
   "execution_count": 112,
   "metadata": {},
   "outputs": [
    {
     "data": {
      "text/plain": [
       "False"
      ]
     },
     "execution_count": 112,
     "metadata": {},
     "output_type": "execute_result"
    }
   ],
   "source": [
    "#Program to validate the BST\n",
    "#We will check whether a Binary tree is Binary Search Tree or Not\n",
    "\n",
    "#Method 1: Find the inorder traversal and match the tree with sorted.\n",
    "\n",
    "class Node(object):\n",
    "    def __init__(self,data):\n",
    "        self.data=data\n",
    "        self.left=None\n",
    "        self.right=None\n",
    "    \n",
    "tree=[]    \n",
    "def checkBST(n):\n",
    "    \n",
    "    return _checkBST(n)\n",
    "    \n",
    "def _checkBST(curr_node):\n",
    "    if not curr_node:\n",
    "        return \n",
    "    else:\n",
    "        _checkBST(curr_node.left)\n",
    "        tree.append(curr_node.data)\n",
    "        _checkBST(curr_node.right)\n",
    "        \n",
    "def sortandcheck():\n",
    "    return tree==sorted(tree)\n",
    "        \n",
    " \n",
    "        \n",
    "n=Node(50)\n",
    "n.left=Node(30)\n",
    "n.right=Node(70)\n",
    "n.left.left=Node(10)\n",
    "n.left.right=Node(40)\n",
    "checkBST(n)\n",
    "sortandcheck()"
   ]
  }
 ],
 "metadata": {
  "kernelspec": {
   "display_name": "Python 3",
   "language": "python",
   "name": "python3"
  },
  "language_info": {
   "codemirror_mode": {
    "name": "ipython",
    "version": 3
   },
   "file_extension": ".py",
   "mimetype": "text/x-python",
   "name": "python",
   "nbconvert_exporter": "python",
   "pygments_lexer": "ipython3",
   "version": "3.8.3"
  }
 },
 "nbformat": 4,
 "nbformat_minor": 4
}
