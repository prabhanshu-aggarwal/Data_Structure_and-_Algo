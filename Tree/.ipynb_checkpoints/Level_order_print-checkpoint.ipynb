{
 "cells": [
  {
   "cell_type": "markdown",
   "metadata": {},
   "source": [
    "# Tree Level Order Print - SOLUTION"
   ]
  },
  {
   "cell_type": "markdown",
   "metadata": {},
   "source": [
    "Given a binary tree of integers, print it in level order. The output will contain space between the numbers in the same level, and new line between different levels. For example, if the tree is:\n",
    "\n",
    "\n",
    "The output should be:\n",
    "\n",
    "1 \n",
    "\n",
    "2 3 \n",
    "\n",
    "4 5 6\n",
    "\n",
    "\n",
    "Solution:\n",
    "\n",
    "It won’t be practical to solve this problem using recursion, because recursion is similar to depth first search, but what we need here is breadth first search. So we will use a queue as we did previously in breadth first search. First, we’ll push the root node into the queue. Then we start a while loop with the condition queue not being empty. Then, at each iteration we pop a node from the beginning of the queue and push its children to the end of the queue. Once we pop a node we print its value and space.\n",
    "\n",
    "To print the new line in correct place we should count the number of nodes at each level. We will have 2 counts, namely current level count and next level count. Current level count indicates how many nodes should be printed at this level before printing a new line. We decrement it every time we pop an element from the queue and print it. Once the current level count reaches zero we print a new line. Next level count contains the number of nodes in the next level, which will become the current level count after printing a new line. We count the number of nodes in the next level by counting the number of children of the nodes in the current level. Understanding the code is easier than its explanation:\n",
    "\n",
    "\n",
    "\n",
    "\n"
   ]
  },
  {
   "cell_type": "code",
   "execution_count": 31,
   "metadata": {},
   "outputs": [
    {
     "name": "stdout",
     "output_type": "stream",
     "text": [
      "50 \n",
      "\n",
      "30 70 \n",
      "\n",
      "10 40 60 80 \n",
      "\n"
     ]
    }
   ],
   "source": [
    "#Need to print the tree as per their levels.\n",
    "\n",
    "import collections\n",
    "\n",
    "class Node():\n",
    "    def __init__(self, data=None):\n",
    "        self.data=data\n",
    "        self.right=None\n",
    "        self.left=None\n",
    "        \n",
    "\n",
    "def levelorderprint(tree):\n",
    "    if not tree:\n",
    "        return \n",
    "    nodes = collections.deque([tree])\n",
    "    curr_count, next_count=1, 0\n",
    "    while(len(nodes)!=0):\n",
    "        curr_node=nodes.popleft()\n",
    "        curr_count -= 1\n",
    "        print (curr_node.data,  end =\" \")\n",
    "        if curr_node.left:\n",
    "            nodes.append(curr_node.left)\n",
    "            next_count += 1\n",
    "            \n",
    "        if curr_node.right:\n",
    "            nodes.append(curr_node.right)\n",
    "            next_count +=1\n",
    "            \n",
    "        if curr_count==0:\n",
    "            print(\"\\n\")\n",
    "            curr_count, next_count=next_count, 0\n",
    "\n",
    "n=Node(50)\n",
    "n.left=Node(30)\n",
    "n.right=Node(70)\n",
    "n.left.left=Node(10)\n",
    "n.left.right=Node(40)\n",
    "n.right.left=Node(60)\n",
    "n.right.right=Node(80)\n",
    "levelorderprint(n)"
   ]
  },
  {
   "cell_type": "markdown",
   "metadata": {},
   "source": [
    "The time complexity of this solution is O(N), which is the number of nodes in the tree, so it’s optimal. Because we should visit each node at least once. The space complexity depends on maximum size of the queue at any point, which is the most number of nodes at one level. The worst case occurs when the tree is a complete binary tree, which means each level is completely filled with maximum number of nodes possible. In this case, the most number of nodes appear at the last level, which is (N+1)/2 where N is the total number of nodes. So the space complexity is also O(N). Which is also optimal while using a queue."
   ]
  }
 ],
 "metadata": {
  "kernelspec": {
   "display_name": "Python 3",
   "language": "python",
   "name": "python3"
  },
  "language_info": {
   "codemirror_mode": {
    "name": "ipython",
    "version": 3
   },
   "file_extension": ".py",
   "mimetype": "text/x-python",
   "name": "python",
   "nbconvert_exporter": "python",
   "pygments_lexer": "ipython3",
   "version": "3.8.3"
  }
 },
 "nbformat": 4,
 "nbformat_minor": 4
}
