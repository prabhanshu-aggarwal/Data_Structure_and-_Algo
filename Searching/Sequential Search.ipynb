{
 "cells": [
  {
   "cell_type": "markdown",
   "metadata": {},
   "source": [
    "# Sequential Search"
   ]
  },
  {
   "cell_type": "markdown",
   "metadata": {},
   "source": [
    "Method 1:"
   ]
  },
  {
   "cell_type": "code",
   "execution_count": 23,
   "metadata": {},
   "outputs": [
    {
     "data": {
      "text/plain": [
       "True"
      ]
     },
     "execution_count": 23,
     "metadata": {},
     "output_type": "execute_result"
    }
   ],
   "source": [
    "def seq_search(arr, ele):\n",
    "    if ele in arr:\n",
    "        return True\n",
    "    else:\n",
    "        return False\n",
    "    \n",
    "seq_search([3,4,5,2,8,6,7], 8)\n"
   ]
  },
  {
   "cell_type": "markdown",
   "metadata": {},
   "source": [
    "Method 2:"
   ]
  },
  {
   "cell_type": "code",
   "execution_count": 29,
   "metadata": {},
   "outputs": [
    {
     "data": {
      "text/plain": [
       "True"
      ]
     },
     "execution_count": 29,
     "metadata": {},
     "output_type": "execute_result"
    }
   ],
   "source": [
    "#For unordered list\n",
    "\n",
    "def seq_search(arr, ele):\n",
    "    l=len(arr)\n",
    "    i=0\n",
    "    found = False\n",
    "    while(i<l) and not found:\n",
    "        if arr[i]==ele:\n",
    "            found = True\n",
    "            \n",
    "        else:\n",
    "            i+=1\n",
    "            \n",
    "    return found\n",
    "\n",
    "seq_search([3,4,5,2,8,6,7], 8)\n",
    "\n",
    "\n",
    "\n",
    "#For ordered list\n",
    "def seq_search_ol(arr, ele):\n",
    "    l=len(arr)\n",
    "    i=0\n",
    "    found = False\n",
    "    while(i<l) and not found:\n",
    "        if arr[i] > ele:\n",
    "            break\n",
    "        if arr[i]==ele:\n",
    "            found = True\n",
    "        else:\n",
    "            i+=1\n",
    "            \n",
    "    return found\n",
    "seq_search_ol([2,3,4,5,7,8,9], 7)"
   ]
  }
 ],
 "metadata": {
  "kernelspec": {
   "display_name": "Python 3",
   "language": "python",
   "name": "python3"
  },
  "language_info": {
   "codemirror_mode": {
    "name": "ipython",
    "version": 3
   },
   "file_extension": ".py",
   "mimetype": "text/x-python",
   "name": "python",
   "nbconvert_exporter": "python",
   "pygments_lexer": "ipython3",
   "version": "3.8.3"
  }
 },
 "nbformat": 4,
 "nbformat_minor": 4
}
