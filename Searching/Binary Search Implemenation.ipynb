{
 "cells": [
  {
   "cell_type": "markdown",
   "metadata": {},
   "source": [
    "# BinarySearch Implementation"
   ]
  },
  {
   "cell_type": "markdown",
   "metadata": {},
   "source": [
    "Condition : For this we must have sorted list.\n",
    "\n",
    "Complexity: (logn)\n",
    "\n",
    "\n",
    "Method 1:"
   ]
  },
  {
   "cell_type": "code",
   "execution_count": 8,
   "metadata": {},
   "outputs": [],
   "source": [
    "#Binary Search\n",
    "\n",
    "def binary_search(arr, ele):\n",
    "    \n",
    "    l=len(arr)\n",
    "    start=0\n",
    "    end=l-1\n",
    "    found=False\n",
    "    \n",
    "    while start<=end and not found:\n",
    "        mid = (start+end)//2\n",
    "        \n",
    "        if arr[mid]==ele:\n",
    "            found =True\n",
    "\n",
    "        else:\n",
    "            if arr[mid]>ele:\n",
    "                end = mid-1\n",
    "\n",
    "            else:\n",
    "                start=mid+1\n",
    "\n",
    "    return found\n",
    "        \n",
    "        \n",
    "        "
   ]
  },
  {
   "cell_type": "code",
   "execution_count": 9,
   "metadata": {},
   "outputs": [
    {
     "data": {
      "text/plain": [
       "True"
      ]
     },
     "execution_count": 9,
     "metadata": {},
     "output_type": "execute_result"
    }
   ],
   "source": [
    "binary_search([1,2,3,4,5,6,7,8],4)"
   ]
  },
  {
   "cell_type": "markdown",
   "metadata": {},
   "source": [
    "Method 2: Recursive method"
   ]
  },
  {
   "cell_type": "code",
   "execution_count": 11,
   "metadata": {},
   "outputs": [],
   "source": [
    "#Binary Search - Recursive method\n",
    "\n",
    "def binary_search_rec(arr, ele):\n",
    "    \n",
    "    if len(arr)==0:\n",
    "        return False\n",
    "    else:\n",
    "        mid=len(arr)//2\n",
    "        \n",
    "        if arr[mid]==ele:\n",
    "            return True\n",
    "        \n",
    "        if ele<arr[mid]:\n",
    "            return binary_search_rec(arr[:mid], ele)\n",
    "        else:\n",
    "            return binary_search_rec(arr[mid+1:],ele)"
   ]
  },
  {
   "cell_type": "code",
   "execution_count": 6,
   "metadata": {},
   "outputs": [
    {
     "data": {
      "text/plain": [
       "False"
      ]
     },
     "execution_count": 6,
     "metadata": {},
     "output_type": "execute_result"
    }
   ],
   "source": [
    "binary_search_rec([1,2,3,4,5,6,7,8],4)"
   ]
  }
 ],
 "metadata": {
  "kernelspec": {
   "display_name": "Python 3",
   "language": "python",
   "name": "python3"
  },
  "language_info": {
   "codemirror_mode": {
    "name": "ipython",
    "version": 3
   },
   "file_extension": ".py",
   "mimetype": "text/x-python",
   "name": "python",
   "nbconvert_exporter": "python",
   "pygments_lexer": "ipython3",
   "version": "3.8.3"
  }
 },
 "nbformat": 4,
 "nbformat_minor": 4
}
