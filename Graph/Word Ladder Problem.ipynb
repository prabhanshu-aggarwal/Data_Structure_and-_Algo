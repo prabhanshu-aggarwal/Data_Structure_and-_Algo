{
 "cells": [
  {
   "attachments": {},
   "cell_type": "markdown",
   "metadata": {},
   "source": [
    "Given a dictionary, and two words ‘start’ and ‘target’ (both of same length). Find length of the smallest chain from ‘start’ to ‘target’ if it exists, such that adjacent words in the chain only differ by one character and each word in the chain is a valid word i.e., it exists in the dictionary. It may be assumed that the ‘target’ word exists in dictionary and length of all dictionary words is same.\n",
    "\n",
    "Solution: The idea is to use BFS.\n",
    "Approach:\n",
    "Start from the given start word.\n",
    "Push the word in the queue\n",
    "Run a loop until the queue is empty\n",
    "Traverse all words that adjacent (differ by one character) to it and push the word in a queue (for BFS)\n",
    "Keep doing so until we find the target word or we have traversed all words."
   ]
  },
  {
   "cell_type": "code",
   "execution_count": 40,
   "metadata": {},
   "outputs": [
    {
     "name": "stdout",
     "output_type": "stream",
     "text": [
      "3\n"
     ]
    }
   ],
   "source": [
    "import collections\n",
    "\n",
    "class Solution(object):\n",
    "    def ladderLength(self, beginWord, endWord, wordList):\n",
    "        if beginWord in wordList:\n",
    "            wordList.remove(beginWord)\n",
    "        \n",
    "        if endWord not in wordList:\n",
    "            return 0\n",
    "\n",
    "        wordList.append(endWord)\n",
    "        queue = collections.deque([[beginWord, 1]])\n",
    "        leng = len(beginWord)\n",
    "        \n",
    "        while queue:\n",
    "            word, length = queue.popleft()\n",
    "            if word == endWord:\n",
    "                return length\n",
    "            wordListCopy = wordList.copy()\n",
    "            for n in wordListCopy:\n",
    "                if sum(n[i]!=word[i] for i in range(leng))==1:\n",
    "                    wordList.remove(n)\n",
    "                    queue.append([n,length+1])\n",
    "        return 0\n",
    "        \n",
    "print(Solution().ladderLength(\"hot\", \"dog\", [\"hot\",\"dog\",\"cog\",\"pot\",\"dot\"]))   "
   ]
  },
  {
   "cell_type": "markdown",
   "metadata": {},
   "source": [
    "Time complexity: O(n²m), where m is the number of entries originally in the dictionary and n is the size of the string.\n",
    "Auxiliary Space:O(m*n), where m are the strings are stored in queue.\n",
    "So the space Complexity is O(m*n)."
   ]
  },
  {
   "cell_type": "raw",
   "metadata": {},
   "source": [
    "Better understanding : https://runestone.academy/runestone/books/published/pythonds/Graphs/BuildingtheWordLadderGraph.html"
   ]
  }
 ],
 "metadata": {
  "kernelspec": {
   "display_name": "Python 3",
   "language": "python",
   "name": "python3"
  },
  "language_info": {
   "codemirror_mode": {
    "name": "ipython",
    "version": 3
   },
   "file_extension": ".py",
   "mimetype": "text/x-python",
   "name": "python",
   "nbconvert_exporter": "python",
   "pygments_lexer": "ipython3",
   "version": "3.8.3"
  }
 },
 "nbformat": 4,
 "nbformat_minor": 4
}
