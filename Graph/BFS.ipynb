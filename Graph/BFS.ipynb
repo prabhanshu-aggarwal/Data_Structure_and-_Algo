{
 "cells": [
  {
   "cell_type": "code",
   "execution_count": 31,
   "metadata": {},
   "outputs": [
    {
     "name": "stdout",
     "output_type": "stream",
     "text": [
      "2 0 3 1 "
     ]
    }
   ],
   "source": [
    "from collections import defaultdict\n",
    "\n",
    "class Graph:\n",
    "    def __init__(self):\n",
    "        self.graph=defaultdict(list)\n",
    "        \n",
    "    def addEdge(self, u, v):\n",
    "        self.graph[u].append(v)\n",
    "        \n",
    "    def bfs(self, node):\n",
    "        visited = [False] * (len(self.graph))\n",
    "        \n",
    "        queue=[]\n",
    "        \n",
    "        queue.append(node)\n",
    "        visited[node]=True\n",
    "        \n",
    "        while queue:\n",
    "            node=queue.pop(0)\n",
    "            print(node , end =\" \")\n",
    "            \n",
    "            for i in self.graph[node]:\n",
    "                if visited[i]==False:\n",
    "                    queue.append(i)\n",
    "                    visited[i]=True\n",
    "       \n",
    "    \n",
    "g = Graph() \n",
    "g.addEdge(0, 1) \n",
    "g.addEdge(0, 2) \n",
    "g.addEdge(1, 2) \n",
    "g.addEdge(2, 0) \n",
    "g.addEdge(2, 3) \n",
    "g.addEdge(3, 3) \n",
    "g.bfs(2)"
   ]
  },
  {
   "cell_type": "code",
   "execution_count": 19,
   "metadata": {},
   "outputs": [
    {
     "data": {
      "text/plain": [
       "3"
      ]
     },
     "execution_count": 19,
     "metadata": {},
     "output_type": "execute_result"
    }
   ],
   "source": []
  },
  {
   "cell_type": "code",
   "execution_count": null,
   "metadata": {},
   "outputs": [],
   "source": []
  }
 ],
 "metadata": {
  "kernelspec": {
   "display_name": "Python 3",
   "language": "python",
   "name": "python3"
  },
  "language_info": {
   "codemirror_mode": {
    "name": "ipython",
    "version": 3
   },
   "file_extension": ".py",
   "mimetype": "text/x-python",
   "name": "python",
   "nbconvert_exporter": "python",
   "pygments_lexer": "ipython3",
   "version": "3.8.3"
  }
 },
 "nbformat": 4,
 "nbformat_minor": 4
}
