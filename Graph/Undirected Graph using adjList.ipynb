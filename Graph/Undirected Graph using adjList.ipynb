{
 "cells": [
  {
   "cell_type": "code",
   "execution_count": 1,
   "metadata": {},
   "outputs": [],
   "source": [
    "#Implentation of Graph using adjacency list (Undirected graph)\n",
    "\n",
    "class AdjNode:\n",
    "    def __init__(self, data):\n",
    "        self.vertex=data\n",
    "        self.next=None\n",
    "        \n",
    "class Graph:\n",
    "    def __init__(self, vertices):\n",
    "        self.vertices=vertices\n",
    "        self.graph=[None]*self.vertices\n",
    "    \n",
    "    # Function to add an edge in an undirected graph \n",
    "    def add_edge(self, src, dest):\n",
    "        # Adding the node to the source node \n",
    "        node = AdjNode(dest)\n",
    "        node.next=self.graph[src]\n",
    "        self.graph[src]=node\n",
    "        \n",
    "        # Adding the source node to the destination as \n",
    "        # it is the undirected graph \n",
    "        node=AdjNode(src)\n",
    "        node.next=self.graph[dest]\n",
    "        self.graph[dest]=node\n",
    "        \n",
    "    def print_graph(self):\n",
    "        for i in range(self.vertices): \n",
    "            print(\"Adjacency list of vertex {}\\n head\".format(i), end=\"\") \n",
    "            temp = self.graph[i] \n",
    "            while temp: \n",
    "                print(\" -> {}\".format(temp.vertex), end=\"\") \n",
    "                temp = temp.next\n",
    "            print(\" \\n\") \n",
    "        \n",
    "        "
   ]
  },
  {
   "cell_type": "code",
   "execution_count": 2,
   "metadata": {},
   "outputs": [
    {
     "name": "stdout",
     "output_type": "stream",
     "text": [
      "Adjacency list of vertex 0\n",
      " head -> 4 -> 1 \n",
      "\n",
      "Adjacency list of vertex 1\n",
      " head -> 4 -> 3 -> 2 -> 0 \n",
      "\n",
      "Adjacency list of vertex 2\n",
      " head -> 3 -> 1 \n",
      "\n",
      "Adjacency list of vertex 3\n",
      " head -> 4 -> 2 -> 1 \n",
      "\n",
      "Adjacency list of vertex 4\n",
      " head -> 3 -> 1 -> 0 \n",
      "\n"
     ]
    }
   ],
   "source": [
    "graph = Graph(5)\n",
    "graph.add_edge(0, 1) \n",
    "graph.add_edge(0, 4) \n",
    "graph.add_edge(1, 2) \n",
    "graph.add_edge(1, 3) \n",
    "graph.add_edge(1, 4) \n",
    "graph.add_edge(2, 3) \n",
    "graph.add_edge(3, 4)\n",
    "\n",
    "graph.print_graph()"
   ]
  }
 ],
 "metadata": {
  "kernelspec": {
   "display_name": "Python 3",
   "language": "python",
   "name": "python3"
  },
  "language_info": {
   "codemirror_mode": {
    "name": "ipython",
    "version": 3
   },
   "file_extension": ".py",
   "mimetype": "text/x-python",
   "name": "python",
   "nbconvert_exporter": "python",
   "pygments_lexer": "ipython3",
   "version": "3.8.3"
  }
 },
 "nbformat": 4,
 "nbformat_minor": 4
}
